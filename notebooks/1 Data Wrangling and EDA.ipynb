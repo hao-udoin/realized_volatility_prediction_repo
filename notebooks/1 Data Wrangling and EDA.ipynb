{
 "cells": [
  {
   "cell_type": "markdown",
   "id": "d57efcbf-7fee-4948-8170-4171702dd60d",
   "metadata": {},
   "source": [
    "# Realized Volatility Prediction\n",
    "## 1 Data Wrangling and Exploratory Data Analysis\n",
    "\n",
    "### Table of Contents\n",
    "#### Data Wrangling\n",
    "1. Introduction and Data Organization\n",
    "2. Library and File Imports\n",
    "#### Exploratory Data Analysis\n",
    "3. Time Series"
   ]
  },
  {
   "attachments": {
    "8d9f3ea5-2ef8-4253-9a0b-b88332d09e93.png": {
     "image/png": "[encoded data removed]"
    }
   },
   "cell_type": "markdown",
   "id": "15d498e3-6125-4896-8842-b2407f620823",
   "metadata": {},
   "source": [
    "## 1 Introduction and Data Organization\n",
    "\n",
    "The project is taken from the Optiver Realized Volatility Prediction competition on Kaggle. The dataset is available for download here (https://www.kaggle.com/competitions/optiver-realized-volatility-prediction/data).\n",
    "\n",
    "The primary unit in this dataset is a \"bucket.\" Each bucket is uniquely identified by a 'stock_id' and a 'time_id,' giving a picture of a particular stock over a specific 10-minute window. Each bucket contains time-serialized snapshots of the order book as well as records of executed trades. These features form the basis for making predictions.\n",
    "\n",
    "The target value associated with each bucket is also provided in the training data; this value is the realized volatility of the same stock over the subsequent 10 minutes. Below is a more detailed description of the three files used for training.\n",
    "\n",
    "### book_train.parquet\n",
    "\n",
    "This is a parquet file partitioned by 'stock_id'; each partition contains multiple buckets (same stock, different 10-minute windows). The rows in the partitions are order book snapshots, serialized according to 'seconds_in_bucket'. \n",
    "\n",
    "An example of an order book snapshot:\n",
    "\n",
    "![image.png](attachment:8d9f3ea5-2ef8-4253-9a0b-b88332d09e93.png)\n",
    "\n",
    "### trade_train.parquet\n",
    "\n",
    "Similar to book_train.parquet, this is also partitioned by 'stock_id'. However, instead of order book snapshots, the rows are records of trades executed on the stock. Therefore the records are more sparse.\n",
    "\n",
    "### train.csv\n",
    "\n",
    "This contains the ground truth values for each bucket."
   ]
  },
  {
   "cell_type": "markdown",
   "id": "9fa88164-cd30-49e5-85fe-b270d50c7d3c",
   "metadata": {},
   "source": [
    "## 2 Library and File Imports"
   ]
  },
  {
   "cell_type": "code",
   "execution_count": 1,
   "id": "837a6606-7b83-4473-8e5c-a02cf1de0e65",
   "metadata": {},
   "outputs": [],
   "source": [
    "# Standard imports and libraries\n",
    "import os\n",
    "import sys\n",
    "import numpy as np\n",
    "import pandas as pd\n",
    "import matplotlib.pyplot as plt\n",
    "import seaborn as sns"
   ]
  },
  {
   "cell_type": "code",
   "execution_count": 3,
   "id": "f3098938-560d-46a2-8ff1-2d0d51047868",
   "metadata": {},
   "outputs": [
    {
     "data": {
      "text/html": [
       "<div>\n",
       "<style scoped>\n",
       "    .dataframe tbody tr th:only-of-type {\n",
       "        vertical-align: middle;\n",
       "    }\n",
       "\n",
       "    .dataframe tbody tr th {\n",
       "        vertical-align: top;\n",
       "    }\n",
       "\n",
       "    .dataframe thead th {\n",
       "        text-align: right;\n",
       "    }\n",
       "</style>\n",
       "<table border=\"1\" class=\"dataframe\">\n",
       "  <thead>\n",
       "    <tr style=\"text-align: right;\">\n",
       "      <th></th>\n",
       "      <th>stock_id</th>\n",
       "      <th>time_id</th>\n",
       "      <th>target</th>\n",
       "    </tr>\n",
       "  </thead>\n",
       "  <tbody>\n",
       "    <tr>\n",
       "      <th>0</th>\n",
       "      <td>0</td>\n",
       "      <td>5</td>\n",
       "      <td>0.004136</td>\n",
       "    </tr>\n",
       "    <tr>\n",
       "      <th>1</th>\n",
       "      <td>0</td>\n",
       "      <td>11</td>\n",
       "      <td>0.001445</td>\n",
       "    </tr>\n",
       "    <tr>\n",
       "      <th>2</th>\n",
       "      <td>0</td>\n",
       "      <td>16</td>\n",
       "      <td>0.002168</td>\n",
       "    </tr>\n",
       "    <tr>\n",
       "      <th>3</th>\n",
       "      <td>0</td>\n",
       "      <td>31</td>\n",
       "      <td>0.002195</td>\n",
       "    </tr>\n",
       "    <tr>\n",
       "      <th>4</th>\n",
       "      <td>0</td>\n",
       "      <td>62</td>\n",
       "      <td>0.001747</td>\n",
       "    </tr>\n",
       "  </tbody>\n",
       "</table>\n",
       "</div>"
      ],
      "text/plain": [
       "   stock_id  time_id    target\n",
       "0         0        5  0.004136\n",
       "1         0       11  0.001445\n",
       "2         0       16  0.002168\n",
       "3         0       31  0.002195\n",
       "4         0       62  0.001747"
      ]
     },
     "execution_count": 3,
     "metadata": {},
     "output_type": "execute_result"
    }
   ],
   "source": [
    "# Target (train.csv)\n",
    "train = pd.read_csv('../data/raw/train.csv')\n",
    "train.head()"
   ]
  },
  {
   "cell_type": "markdown",
   "id": "74ec3fbb-08bf-436c-842c-c692ebeb56b3",
   "metadata": {},
   "source": [
    "Here we could see each row represents a bucket. Let us select row 3 for example; this bucket has stock_id = 0, so we will look at the book and trade files with this stock_id."
   ]
  },
  {
   "cell_type": "code",
   "execution_count": 4,
   "id": "db5ed172-3532-46b7-a1da-e4d763d39b85",
   "metadata": {},
   "outputs": [],
   "source": [
    "# Feature (book_train.parquet and trade_train.parquet, stock_id=0)\n",
    "book_path = '../data/raw/book_train.parquet/stock_id='\n",
    "trade_path = '../data/raw/trade_train.parquet/stock_id='\n",
    "stock_id = 0"
   ]
  },
  {
   "cell_type": "code",
   "execution_count": 6,
   "id": "b9b4f7f5-3cd1-4342-9591-55addcca0b37",
   "metadata": {},
   "outputs": [
    {
     "data": {
      "text/html": [
       "<div>\n",
       "<style scoped>\n",
       "    .dataframe tbody tr th:only-of-type {\n",
       "        vertical-align: middle;\n",
       "    }\n",
       "\n",
       "    .dataframe tbody tr th {\n",
       "        vertical-align: top;\n",
       "    }\n",
       "\n",
       "    .dataframe thead th {\n",
       "        text-align: right;\n",
       "    }\n",
       "</style>\n",
       "<table border=\"1\" class=\"dataframe\">\n",
       "  <thead>\n",
       "    <tr style=\"text-align: right;\">\n",
       "      <th></th>\n",
       "      <th>time_id</th>\n",
       "      <th>seconds_in_bucket</th>\n",
       "      <th>bid_price1</th>\n",
       "      <th>ask_price1</th>\n",
       "      <th>bid_price2</th>\n",
       "      <th>ask_price2</th>\n",
       "      <th>bid_size1</th>\n",
       "      <th>ask_size1</th>\n",
       "      <th>bid_size2</th>\n",
       "      <th>ask_size2</th>\n",
       "    </tr>\n",
       "  </thead>\n",
       "  <tbody>\n",
       "    <tr>\n",
       "      <th>0</th>\n",
       "      <td>5</td>\n",
       "      <td>0</td>\n",
       "      <td>1.001422</td>\n",
       "      <td>1.002301</td>\n",
       "      <td>1.00137</td>\n",
       "      <td>1.002353</td>\n",
       "      <td>3</td>\n",
       "      <td>226</td>\n",
       "      <td>2</td>\n",
       "      <td>100</td>\n",
       "    </tr>\n",
       "    <tr>\n",
       "      <th>1</th>\n",
       "      <td>5</td>\n",
       "      <td>1</td>\n",
       "      <td>1.001422</td>\n",
       "      <td>1.002301</td>\n",
       "      <td>1.00137</td>\n",
       "      <td>1.002353</td>\n",
       "      <td>3</td>\n",
       "      <td>100</td>\n",
       "      <td>2</td>\n",
       "      <td>100</td>\n",
       "    </tr>\n",
       "    <tr>\n",
       "      <th>2</th>\n",
       "      <td>5</td>\n",
       "      <td>5</td>\n",
       "      <td>1.001422</td>\n",
       "      <td>1.002301</td>\n",
       "      <td>1.00137</td>\n",
       "      <td>1.002405</td>\n",
       "      <td>3</td>\n",
       "      <td>100</td>\n",
       "      <td>2</td>\n",
       "      <td>100</td>\n",
       "    </tr>\n",
       "    <tr>\n",
       "      <th>3</th>\n",
       "      <td>5</td>\n",
       "      <td>6</td>\n",
       "      <td>1.001422</td>\n",
       "      <td>1.002301</td>\n",
       "      <td>1.00137</td>\n",
       "      <td>1.002405</td>\n",
       "      <td>3</td>\n",
       "      <td>126</td>\n",
       "      <td>2</td>\n",
       "      <td>100</td>\n",
       "    </tr>\n",
       "    <tr>\n",
       "      <th>4</th>\n",
       "      <td>5</td>\n",
       "      <td>7</td>\n",
       "      <td>1.001422</td>\n",
       "      <td>1.002301</td>\n",
       "      <td>1.00137</td>\n",
       "      <td>1.002405</td>\n",
       "      <td>3</td>\n",
       "      <td>126</td>\n",
       "      <td>2</td>\n",
       "      <td>100</td>\n",
       "    </tr>\n",
       "  </tbody>\n",
       "</table>\n",
       "</div>"
      ],
      "text/plain": [
       "   time_id  seconds_in_bucket  bid_price1  ask_price1  bid_price2  ask_price2  \\\n",
       "0        5                  0    1.001422    1.002301     1.00137    1.002353   \n",
       "1        5                  1    1.001422    1.002301     1.00137    1.002353   \n",
       "2        5                  5    1.001422    1.002301     1.00137    1.002405   \n",
       "3        5                  6    1.001422    1.002301     1.00137    1.002405   \n",
       "4        5                  7    1.001422    1.002301     1.00137    1.002405   \n",
       "\n",
       "   bid_size1  ask_size1  bid_size2  ask_size2  \n",
       "0          3        226          2        100  \n",
       "1          3        100          2        100  \n",
       "2          3        100          2        100  \n",
       "3          3        126          2        100  \n",
       "4          3        126          2        100  "
      ]
     },
     "execution_count": 6,
     "metadata": {},
     "output_type": "execute_result"
    }
   ],
   "source": [
    "book_example = pd.read_parquet(book_path + str(stock_id))\n",
    "book_example.head()"
   ]
  },
  {
   "cell_type": "code",
   "execution_count": 9,
   "id": "2d48fa76-e1f1-4ac8-941d-1d4ff8cf868e",
   "metadata": {},
   "outputs": [
    {
     "data": {
      "text/html": [
       "<div>\n",
       "<style scoped>\n",
       "    .dataframe tbody tr th:only-of-type {\n",
       "        vertical-align: middle;\n",
       "    }\n",
       "\n",
       "    .dataframe tbody tr th {\n",
       "        vertical-align: top;\n",
       "    }\n",
       "\n",
       "    .dataframe thead th {\n",
       "        text-align: right;\n",
       "    }\n",
       "</style>\n",
       "<table border=\"1\" class=\"dataframe\">\n",
       "  <thead>\n",
       "    <tr style=\"text-align: right;\">\n",
       "      <th></th>\n",
       "      <th>time_id</th>\n",
       "      <th>seconds_in_bucket</th>\n",
       "      <th>price</th>\n",
       "      <th>size</th>\n",
       "      <th>order_count</th>\n",
       "    </tr>\n",
       "  </thead>\n",
       "  <tbody>\n",
       "    <tr>\n",
       "      <th>0</th>\n",
       "      <td>5</td>\n",
       "      <td>21</td>\n",
       "      <td>1.002301</td>\n",
       "      <td>326</td>\n",
       "      <td>12</td>\n",
       "    </tr>\n",
       "    <tr>\n",
       "      <th>1</th>\n",
       "      <td>5</td>\n",
       "      <td>46</td>\n",
       "      <td>1.002778</td>\n",
       "      <td>128</td>\n",
       "      <td>4</td>\n",
       "    </tr>\n",
       "    <tr>\n",
       "      <th>2</th>\n",
       "      <td>5</td>\n",
       "      <td>50</td>\n",
       "      <td>1.002818</td>\n",
       "      <td>55</td>\n",
       "      <td>1</td>\n",
       "    </tr>\n",
       "    <tr>\n",
       "      <th>3</th>\n",
       "      <td>5</td>\n",
       "      <td>57</td>\n",
       "      <td>1.003155</td>\n",
       "      <td>121</td>\n",
       "      <td>5</td>\n",
       "    </tr>\n",
       "    <tr>\n",
       "      <th>4</th>\n",
       "      <td>5</td>\n",
       "      <td>68</td>\n",
       "      <td>1.003646</td>\n",
       "      <td>4</td>\n",
       "      <td>1</td>\n",
       "    </tr>\n",
       "  </tbody>\n",
       "</table>\n",
       "</div>"
      ],
      "text/plain": [
       "   time_id  seconds_in_bucket     price  size  order_count\n",
       "0        5                 21  1.002301   326           12\n",
       "1        5                 46  1.002778   128            4\n",
       "2        5                 50  1.002818    55            1\n",
       "3        5                 57  1.003155   121            5\n",
       "4        5                 68  1.003646     4            1"
      ]
     },
     "execution_count": 9,
     "metadata": {},
     "output_type": "execute_result"
    }
   ],
   "source": [
    "trade_example = pd.read_parquet(trade_path + str(stock_id))\n",
    "trade_example.head()"
   ]
  },
  {
   "cell_type": "markdown",
   "id": "f2942e19-8686-4fcd-8c06-933a9366eb57",
   "metadata": {},
   "source": [
    "Each dataframe should contain information on multiple buckets of the same stock_id but different time_id; let us verify by counting the unique values of time_id in each."
   ]
  },
  {
   "cell_type": "code",
   "execution_count": 11,
   "id": "86b47e06-b7c9-4eac-9637-5aa91289bf55",
   "metadata": {},
   "outputs": [
    {
     "name": "stdout",
     "output_type": "stream",
     "text": [
      "3830\n"
     ]
    }
   ],
   "source": [
    "print(book_example.time_id.nunique())"
   ]
  },
  {
   "cell_type": "code",
   "execution_count": 12,
   "id": "e1bf6c56-04d7-431b-8c7a-084200d6d147",
   "metadata": {},
   "outputs": [
    {
     "name": "stdout",
     "output_type": "stream",
     "text": [
      "3830\n"
     ]
    }
   ],
   "source": [
    "print(trade_example.time_id.nunique())"
   ]
  },
  {
   "cell_type": "markdown",
   "id": "a7ea848d-2ab3-4168-ba05-fb2d40d78323",
   "metadata": {},
   "source": [
    "Now that we have established the relationships between these tables, let us focus on our single bucket on row 3 of train.csv; it has time_id = 31."
   ]
  },
  {
   "cell_type": "code",
   "execution_count": 14,
   "id": "c6252a93-3bde-44ce-b76e-53f36497f0f1",
   "metadata": {},
   "outputs": [],
   "source": [
    "time_id = 31\n",
    "book_bucket = book_example[book_example['time_id'] == time_id]\n",
    "trade_bucket = trade_example[trade_example['time_id'] == time_id]"
   ]
  },
  {
   "cell_type": "code",
   "execution_count": 15,
   "id": "fb5bb082-07fe-4e80-85c9-e3b541244782",
   "metadata": {},
   "outputs": [
    {
     "data": {
      "text/html": [
       "<div>\n",
       "<style scoped>\n",
       "    .dataframe tbody tr th:only-of-type {\n",
       "        vertical-align: middle;\n",
       "    }\n",
       "\n",
       "    .dataframe tbody tr th {\n",
       "        vertical-align: top;\n",
       "    }\n",
       "\n",
       "    .dataframe thead th {\n",
       "        text-align: right;\n",
       "    }\n",
       "</style>\n",
       "<table border=\"1\" class=\"dataframe\">\n",
       "  <thead>\n",
       "    <tr style=\"text-align: right;\">\n",
       "      <th></th>\n",
       "      <th>time_id</th>\n",
       "      <th>seconds_in_bucket</th>\n",
       "      <th>bid_price1</th>\n",
       "      <th>ask_price1</th>\n",
       "      <th>bid_price2</th>\n",
       "      <th>ask_price2</th>\n",
       "      <th>bid_size1</th>\n",
       "      <th>ask_size1</th>\n",
       "      <th>bid_size2</th>\n",
       "      <th>ask_size2</th>\n",
       "    </tr>\n",
       "  </thead>\n",
       "  <tbody>\n",
       "    <tr>\n",
       "      <th>690</th>\n",
       "      <td>31</td>\n",
       "      <td>0</td>\n",
       "      <td>0.999815</td>\n",
       "      <td>1.000463</td>\n",
       "      <td>0.999722</td>\n",
       "      <td>1.000509</td>\n",
       "      <td>343</td>\n",
       "      <td>100</td>\n",
       "      <td>5</td>\n",
       "      <td>242</td>\n",
       "    </tr>\n",
       "    <tr>\n",
       "      <th>691</th>\n",
       "      <td>31</td>\n",
       "      <td>3</td>\n",
       "      <td>0.999815</td>\n",
       "      <td>1.000463</td>\n",
       "      <td>0.999769</td>\n",
       "      <td>1.000509</td>\n",
       "      <td>343</td>\n",
       "      <td>100</td>\n",
       "      <td>5</td>\n",
       "      <td>142</td>\n",
       "    </tr>\n",
       "    <tr>\n",
       "      <th>692</th>\n",
       "      <td>31</td>\n",
       "      <td>11</td>\n",
       "      <td>0.999815</td>\n",
       "      <td>1.000509</td>\n",
       "      <td>0.999769</td>\n",
       "      <td>1.000601</td>\n",
       "      <td>343</td>\n",
       "      <td>142</td>\n",
       "      <td>5</td>\n",
       "      <td>100</td>\n",
       "    </tr>\n",
       "    <tr>\n",
       "      <th>693</th>\n",
       "      <td>31</td>\n",
       "      <td>27</td>\n",
       "      <td>0.999815</td>\n",
       "      <td>1.000509</td>\n",
       "      <td>0.999769</td>\n",
       "      <td>1.000601</td>\n",
       "      <td>243</td>\n",
       "      <td>142</td>\n",
       "      <td>5</td>\n",
       "      <td>100</td>\n",
       "    </tr>\n",
       "    <tr>\n",
       "      <th>694</th>\n",
       "      <td>31</td>\n",
       "      <td>31</td>\n",
       "      <td>0.999815</td>\n",
       "      <td>1.000509</td>\n",
       "      <td>0.999769</td>\n",
       "      <td>1.000601</td>\n",
       "      <td>243</td>\n",
       "      <td>142</td>\n",
       "      <td>5</td>\n",
       "      <td>125</td>\n",
       "    </tr>\n",
       "  </tbody>\n",
       "</table>\n",
       "</div>"
      ],
      "text/plain": [
       "     time_id  seconds_in_bucket  bid_price1  ask_price1  bid_price2  \\\n",
       "690       31                  0    0.999815    1.000463    0.999722   \n",
       "691       31                  3    0.999815    1.000463    0.999769   \n",
       "692       31                 11    0.999815    1.000509    0.999769   \n",
       "693       31                 27    0.999815    1.000509    0.999769   \n",
       "694       31                 31    0.999815    1.000509    0.999769   \n",
       "\n",
       "     ask_price2  bid_size1  ask_size1  bid_size2  ask_size2  \n",
       "690    1.000509        343        100          5        242  \n",
       "691    1.000509        343        100          5        142  \n",
       "692    1.000601        343        142          5        100  \n",
       "693    1.000601        243        142          5        100  \n",
       "694    1.000601        243        142          5        125  "
      ]
     },
     "execution_count": 15,
     "metadata": {},
     "output_type": "execute_result"
    }
   ],
   "source": [
    "book_bucket.head()"
   ]
  },
  {
   "cell_type": "code",
   "execution_count": 17,
   "id": "e93a3ac4-d398-446c-9d62-1ea42e94c79b",
   "metadata": {},
   "outputs": [
    {
     "data": {
      "text/plain": [
       "(120, 10)"
      ]
     },
     "execution_count": 17,
     "metadata": {},
     "output_type": "execute_result"
    }
   ],
   "source": [
    "book_bucket.shape"
   ]
  },
  {
   "cell_type": "markdown",
   "id": "1f78eef5-31dd-47e2-9142-f666e4714018",
   "metadata": {},
   "source": [
    "A description of the columns for reference:\n",
    "\n",
    "Order book data on the most competitive buy and sell orders entered into the market. The top two levels of the book are shared. The first level of the book will be more competitive in price terms, it will then receive execution priority over the second level.\n",
    "\n",
    "- stock_id - ID code for the stock. Not all stock IDs exist in every time bucket. Parquet coerces this column to the categorical data type when loaded; you may wish to convert it to int8.\n",
    "- time_id - ID code for the time bucket. Time IDs are not necessarily sequential but are consistent across all stocks.\n",
    "- seconds_in_bucket - Number of seconds from the start of the bucket, always starting from 0.\n",
    "- bid_price[1/2] - Normalized prices of the most/second most competitive buy level.\n",
    "- ask_price[1/2] - Normalized prices of the most/second most competitive sell level.\n",
    "- bid_size[1/2] - The number of shares on the most/second most competitive buy level.\n",
    "- ask_size[1/2] - The number of shares on the most/second most competitive sell level."
   ]
  },
  {
   "cell_type": "code",
   "execution_count": 18,
   "id": "2310d5c4-32c6-4e66-9fe3-e9fe25912ace",
   "metadata": {},
   "outputs": [
    {
     "data": {
      "text/html": [
       "<div>\n",
       "<style scoped>\n",
       "    .dataframe tbody tr th:only-of-type {\n",
       "        vertical-align: middle;\n",
       "    }\n",
       "\n",
       "    .dataframe tbody tr th {\n",
       "        vertical-align: top;\n",
       "    }\n",
       "\n",
       "    .dataframe thead th {\n",
       "        text-align: right;\n",
       "    }\n",
       "</style>\n",
       "<table border=\"1\" class=\"dataframe\">\n",
       "  <thead>\n",
       "    <tr style=\"text-align: right;\">\n",
       "      <th></th>\n",
       "      <th>time_id</th>\n",
       "      <th>seconds_in_bucket</th>\n",
       "      <th>price</th>\n",
       "      <th>size</th>\n",
       "      <th>order_count</th>\n",
       "    </tr>\n",
       "  </thead>\n",
       "  <tbody>\n",
       "    <tr>\n",
       "      <th>95</th>\n",
       "      <td>31</td>\n",
       "      <td>3</td>\n",
       "      <td>1.000231</td>\n",
       "      <td>13</td>\n",
       "      <td>1</td>\n",
       "    </tr>\n",
       "    <tr>\n",
       "      <th>96</th>\n",
       "      <td>31</td>\n",
       "      <td>53</td>\n",
       "      <td>1.000231</td>\n",
       "      <td>16</td>\n",
       "      <td>1</td>\n",
       "    </tr>\n",
       "    <tr>\n",
       "      <th>97</th>\n",
       "      <td>31</td>\n",
       "      <td>101</td>\n",
       "      <td>0.999745</td>\n",
       "      <td>202</td>\n",
       "      <td>6</td>\n",
       "    </tr>\n",
       "    <tr>\n",
       "      <th>98</th>\n",
       "      <td>31</td>\n",
       "      <td>117</td>\n",
       "      <td>0.999260</td>\n",
       "      <td>100</td>\n",
       "      <td>1</td>\n",
       "    </tr>\n",
       "    <tr>\n",
       "      <th>99</th>\n",
       "      <td>31</td>\n",
       "      <td>161</td>\n",
       "      <td>0.998381</td>\n",
       "      <td>70</td>\n",
       "      <td>3</td>\n",
       "    </tr>\n",
       "  </tbody>\n",
       "</table>\n",
       "</div>"
      ],
      "text/plain": [
       "    time_id  seconds_in_bucket     price  size  order_count\n",
       "95       31                  3  1.000231    13            1\n",
       "96       31                 53  1.000231    16            1\n",
       "97       31                101  0.999745   202            6\n",
       "98       31                117  0.999260   100            1\n",
       "99       31                161  0.998381    70            3"
      ]
     },
     "execution_count": 18,
     "metadata": {},
     "output_type": "execute_result"
    }
   ],
   "source": [
    "trade_bucket.head()"
   ]
  },
  {
   "cell_type": "code",
   "execution_count": 19,
   "id": "f799b6a3-4e6d-4fef-8549-fc30cc732d31",
   "metadata": {},
   "outputs": [
    {
     "data": {
      "text/plain": [
       "(15, 5)"
      ]
     },
     "execution_count": 19,
     "metadata": {},
     "output_type": "execute_result"
    }
   ],
   "source": [
    "trade_bucket.shape"
   ]
  },
  {
   "cell_type": "markdown",
   "id": "e02d43f6-ea6d-4e5b-a5fc-4f54811690d7",
   "metadata": {},
   "source": [
    "A description of the columns for reference:\n",
    "\n",
    "Data on trades that actually executed. Usually, in the market, there are more passive buy/sell intention updates (book updates) than actual trades, therefore one may expect this file to be more sparse than the order book.\n",
    "\n",
    "- stock_id - Same as above.\n",
    "- time_id - Same as above.\n",
    "- seconds_in_bucket - Same as above. Note that since trade and book data are taken from the same time window and trade data is more sparse in general, this field is not necessarily starting from 0.\n",
    "- price - The average price of executed transactions happening in one second. Prices have been normalized and the average has been weighted by the number of shares traded in each transaction.\n",
    "- size - The sum number of shares traded.\n",
    "- order_count - The number of unique trade orders taking place."
   ]
  },
  {
   "cell_type": "markdown",
   "id": "98a46e62-7874-48a2-826e-86f4c3771afb",
   "metadata": {},
   "source": [
    "So far, the dataframes have the expected format; we will carry on with further investigation in the exploratory data analysis section. For now, let us loop through every file and here are the most important things to make sure of:\n",
    "\n",
    "1. No null value in any of the fields\n",
    "2. Every bucket has a target value in train.csv\n",
    "3. Every bucket has book data for time running from 0 to 600 (10-min)\n",
    "\n",
    "We will do a single loop through the parquet files, keeping track of the various values for each bucket and output for buckets failing any of the conditions. This checks for (a) if the data is clean, and (b) if we understand the data correctly at this point."
   ]
  },
  {
   "cell_type": "code",
   "execution_count": null,
   "id": "5d15d181-7dac-4e5a-9b3c-77ebaa8f9959",
   "metadata": {},
   "outputs": [],
   "source": [
    "def check_bucket(time_id):\n",
    "    "
   ]
  }
 ],
 "metadata": {
  "kernelspec": {
   "display_name": "Python 3 (ipykernel)",
   "language": "python",
   "name": "python3"
  },
  "language_info": {
   "codemirror_mode": {
    "name": "ipython",
    "version": 3
   },
   "file_extension": ".py",
   "mimetype": "text/x-python",
   "name": "python",
   "nbconvert_exporter": "python",
   "pygments_lexer": "ipython3",
   "version": "3.11.5"
  }
 },
 "nbformat": 4,
 "nbformat_minor": 5
}
