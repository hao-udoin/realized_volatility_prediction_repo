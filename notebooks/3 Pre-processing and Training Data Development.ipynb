{
 "cells": [
  {
   "cell_type": "markdown",
   "id": "05a4e97e-531d-45cd-aa00-fd69820b104f",
   "metadata": {},
   "source": [
    "# Realized Volatility Prediction\n",
    "## 3 Pre-processing and Training Data Development\n",
    "\n",
    "### Table of Contents\n",
    "1. Introduction and Imports\n",
    "2. Book Feature Building\n",
    "3. Trade Feature Building\n",
    "4. Feature Analysis\n",
    "5. Train Test Split"
   ]
  },
  {
   "cell_type": "markdown",
   "id": "3fde9914-d7f3-4a9d-8cc9-7e701880bd6a",
   "metadata": {},
   "source": [
    "## 3.1 Introduction and Imports\n",
    "\n",
    "We have so far built one feature for an example bucket; in this step of the project, we will build more features and apply them to the rest of the dataset. We will accomplish this by writing a series of functions that generate different statistics on a bucket. The generated statistics will be added to train.csv and finally a train/test split will be performed.\n",
    "\n",
    "Let's start with the necessary imports and load the same example bucket for reference."
   ]
  },
  {
   "cell_type": "code",
   "execution_count": null,
   "id": "3a4eb0cc-9c85-40ec-ba93-b9b59179d0b6",
   "metadata": {},
   "outputs": [],
   "source": []
  }
 ],
 "metadata": {
  "kernelspec": {
   "display_name": "Python 3 (ipykernel)",
   "language": "python",
   "name": "python3"
  },
  "language_info": {
   "codemirror_mode": {
    "name": "ipython",
    "version": 3
   },
   "file_extension": ".py",
   "mimetype": "text/x-python",
   "name": "python",
   "nbconvert_exporter": "python",
   "pygments_lexer": "ipython3",
   "version": "3.11.5"
  }
 },
 "nbformat": 4,
 "nbformat_minor": 5
}
